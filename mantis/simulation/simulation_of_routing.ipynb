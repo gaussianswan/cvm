{
 "cells": [
  {
   "cell_type": "markdown",
   "metadata": {},
   "source": [
    "In this notebook, we are going to go through the process of understanding fully the code that is being presented to us. "
   ]
  },
  {
   "cell_type": "code",
   "execution_count": 35,
   "metadata": {},
   "outputs": [],
   "source": [
    "import itertools\n",
    "import numpy as np\n",
    "import cvxpy as cp\n",
    "import pandas as pd\n",
    "from enum import Enum\n",
    "from typing import TypeVar\n",
    "from pydantic import BaseModel\n",
    "from tqdm import tqdm\n",
    "from datetime import datetime\n",
    "\n",
    "CENTER_NODE = \"CENTAURI\"  # Name of center Node\n",
    "ORIGIN_TOKEN = \"WETH\"\n",
    "OBJ_TOKEN = \"ATOM\"\n",
    "\n",
    "MAX_RESERVE = 1e10\n",
    "\n",
    "TAssetId = TypeVar(\"TAssetId\")\n",
    "TNetworkId = TypeVar(\"TNetworkId\")\n",
    "\n",
    "def populate_chain_dict(chains: dict[TNetworkId, list[TAssetId]], center_node: TNetworkId):\n",
    "    # Add tokens with denom to Center Node\n",
    "    # Basic IBC transfer\n",
    "    for chain, tokens in chains.items():\n",
    "        if chain != center_node:\n",
    "            chains[center_node].extend(f\"{chain}/{token}\" for token in tokens)\n",
    "\n",
    "    1# Add tokens from Center Node to outers\n",
    "    \n",
    "    # Simulate IBC transfer through Composable Cosmos\n",
    "    for chain, tokens in chains.items():\n",
    "        if chain != center_node:\n",
    "            chains[chain].extend(\n",
    "                f\"{center_node}/{token}\"\n",
    "                for token in chains[center_node]\n",
    "                if f\"{chain}/\" not in token\n",
    "            )\n",
    "\n",
    "# This function takes in your tokens, market makers, and reserves and returns the optimal trade. \n",
    "# You get the deltas, lambdas, psi, and etas           \n",
    "def solve(\n",
    "    all_tokens: list[TAssetId],\n",
    "    all_cfmms: list[tuple[TAssetId, TAssetId]],\n",
    "    reserves: list[np.ndarray[np.float64]],\n",
    "    cfmm_tx_cost: list[float],\n",
    "    fees: list[float],\n",
    "    ibc_pools: int,\n",
    "    origin_token: TAssetId,\n",
    "    number_of_init_tokens: float,\n",
    "    obj_token: TAssetId,\n",
    "    force_eta: list[float] = None,\n",
    "):\n",
    "    \n",
    "    # Build local-global matrices\n",
    "    count_tokens = len(all_tokens)\n",
    "    count_cfmms = len(all_cfmms)\n",
    "\n",
    "    current_assets = np.zeros(count_tokens)\n",
    "    current_assets[all_tokens.index(origin_token)] = number_of_init_tokens\n",
    "\n",
    "    A = []\n",
    "    for cfmm in all_cfmms:\n",
    "        n_i = len(cfmm)\n",
    "        A_i = np.zeros((count_tokens, n_i))\n",
    "        for i, token in enumerate(cfmm):\n",
    "            A_i[all_tokens.index(token), i] = 1\n",
    "        A.append(A_i)\n",
    "\n",
    "    # Build variables\n",
    "    \n",
    "    # tendered (given) amount\n",
    "    deltas = [cp.Variable(len(l), nonneg=True) for l in all_cfmms]\n",
    "    \n",
    "    # received (wanted) amounts\n",
    "    lambdas = [cp.Variable(len(l), nonneg=True) for l in all_cfmms]\n",
    "    eta = cp.Variable(\n",
    "        count_cfmms, nonneg=True\n",
    "    )  # Binary value, indicates tx or not for given pool\n",
    "\n",
    "    # network trade vector - net amount received over all trades(transfers/exchanges)\n",
    "    psi = cp.sum([A_i @ (LAMBDA - DELTA) for A_i, DELTA, LAMBDA in zip(A, deltas, lambdas)])\n",
    "    \n",
    "    # Objective is to trade number_of_init_tokens of asset origin_token for a maximum amount of asset objective_token\n",
    "    obj = cp.Maximize(psi[all_tokens.index(obj_token)] - eta @ cfmm_tx_cost)\n",
    "\n",
    "    # Reserves after trade\n",
    "    new_reserves = [\n",
    "        R + gamma_i * D - L for R, gamma_i, D, L in zip(reserves, fees, deltas, lambdas)\n",
    "    ]\n",
    "\n",
    "    # Trading function constraints\n",
    "    constrains = [\n",
    "        psi + current_assets >= 0,\n",
    "    ]\n",
    "\n",
    "    # Pool constraint (Uniswap v2 like)\n",
    "    for i in range(count_cfmms - ibc_pools):\n",
    "        constrains.append(cp.geo_mean(new_reserves[i]) >= cp.geo_mean(reserves[i]))\n",
    "\n",
    "    # Pool constraint for IBC transfer (constant sum)\n",
    "    # NOTE: Ibc pools are at the bottom of the cfmm list\n",
    "    for i in range(count_cfmms - ibc_pools, count_cfmms):\n",
    "        constrains.append(cp.sum(new_reserves[i]) >= cp.sum(reserves[i]))\n",
    "        constrains.append(new_reserves[i] >= 0)\n",
    "\n",
    "    # Enforce deltas depending on pass or not pass variable\n",
    "    # MAX_RESERVE should be big enough so delta <<< MAX_RESERVE\n",
    "    for i in range(count_cfmms):\n",
    "        constrains.append(deltas[i] <= eta[i] * MAX_RESERVE)\n",
    "        if force_eta:\n",
    "            constrains.append(eta[i] == force_eta[i])\n",
    "\n",
    "    # Set up and solve problem\n",
    "    prob = cp.Problem(obj, constrains)\n",
    "    prob.solve(verbose=False, solver=cp.ECOS)\n",
    "    \n",
    "    amount_out = psi.value[all_tokens.index(obj_token)]\n",
    "    amount_in = -psi.value[all_tokens.index(origin_token)]\n",
    "    total_fees = eta.value @ cfmm_tx_cost\n",
    "    \n",
    "    return deltas, lambdas, psi, eta, amount_out, amount_in, total_fees\n",
    "\n",
    "\n",
    " # Build local-global matrices\n",
    "\n",
    "\n",
    "def get_mapping_matrices(all_tokens, all_cfmms):\n",
    "    count_tokens = len(all_tokens)\n",
    "    count_cfmms = len(all_cfmms)\n",
    "    A = []\n",
    "    for cfmm in all_cfmms:\n",
    "        n_i = len(cfmm)\n",
    "        A_i = np.zeros((count_tokens, n_i))\n",
    "        for i, token in enumerate(cfmm):\n",
    "            A_i[all_tokens.index(token), i] = 1\n",
    "        A.append(A_i)\n",
    "        \n",
    "    return A"
   ]
  },
  {
   "cell_type": "markdown",
   "metadata": {},
   "source": [
    "### Environment set up\n",
    "\n",
    "In this next section of code, we establish what the center node is and the set of constant function market makers that exist. There are two types of them: \n",
    "* Regular constant function market makers which help you to exchange one token for another \n",
    "* IBC pools which are constant sum market makers which represent the movement of one token into another one\n",
    "\n",
    "One thing that we could do is operationalize this using objects and stuff. Make it easier to track what is going on in the system. "
   ]
  },
  {
   "cell_type": "code",
   "execution_count": 2,
   "metadata": {},
   "outputs": [],
   "source": [
    "CENTER_NODE = \"CENTAURI\"  # Name of center Node\n",
    "\n",
    "ORIGIN_TOKEN = \"WETH\"\n",
    "OBJ_TOKEN = \"ATOM\"\n",
    "\n",
    "chains: dict[str, list[str]] = {\n",
    "    \"ETHEREUM\": [\"WETH\", \"USDC\", \"SHIBA\"],\n",
    "    CENTER_NODE: [],\n",
    "    \"OSMOSIS\": [\"ATOM\",\"SCRT\"],\n",
    "}\n",
    "\n",
    "populate_chain_dict(chains,CENTER_NODE)\n",
    "\n",
    "all_tokens = []\n",
    "all_cfmms = []\n",
    "reserves = []\n",
    "fees = []\n",
    "cfmm_tx_cost = []\n",
    "ibc_pools = 0\n",
    "tol = 1e-4"
   ]
  },
  {
   "cell_type": "code",
   "execution_count": 3,
   "metadata": {},
   "outputs": [],
   "source": [
    "for other_chain, other_tokens in chains.items():\n",
    "    \n",
    "    # We add the tokens to the list of tokens. These are tokens that exist on that chain\n",
    "    all_tokens.extend(other_tokens)\n",
    "    \n",
    "    # We also add all market makers to the list of market makers using a combination of 2 tokens\n",
    "    all_cfmms.extend(itertools.combinations(other_tokens, 2))\n",
    "    \n",
    "for cfmm in all_cfmms:\n",
    "    \n",
    "    # Adding a simulation of reserves and transaction costs for each\n",
    "    reserves.append(np.random.uniform(9500, 10051, 2))\n",
    "    cfmm_tx_cost.append(np.random.uniform(0, 20))\n"
   ]
  },
  {
   "cell_type": "code",
   "execution_count": 4,
   "metadata": {},
   "outputs": [],
   "source": [
    "# Creating the IBC pools here which represent constant sum pools \n",
    "# These are not really \"pools\" but the bridges that you have to go through to get to the other chain\n",
    "for token_on_center in chains[CENTER_NODE]:\n",
    "        for other_chain, other_tokens in chains.items():\n",
    "            if other_chain != CENTER_NODE:\n",
    "                for other_token in other_tokens:\n",
    "                    # Check wether the chain has the token in center, or the other way around\n",
    "                    # Could cause problems if chainName == tokensName (for example OSMOSIS)\n",
    "                    if other_token in token_on_center or token_on_center in other_token:\n",
    "                        all_cfmms.append((token_on_center, other_token))\n",
    "                        reserves.append(np.random.uniform(10000, 11000, 2))\n",
    "                        cfmm_tx_cost.append(np.random.uniform(0, 20))\n",
    "                        ibc_pools += 1\n",
    "                        \n",
    "# simulate random fees for all the CFMMs, including those that are IBC pools\n",
    "fees.extend(np.random.uniform(0.97, 0.999) for _ in range(len(all_cfmms)))"
   ]
  },
  {
   "cell_type": "markdown",
   "metadata": {},
   "source": [
    "### Solving the problem\n",
    "\n",
    "We now are going to solve the optimal routing problem using python's cvxpy module. The key here is that this initial solving should give us some $\\eta$ values. These $\\eta$ values are our initial proposal and then we slide through each one turning them into 0s and 1s. "
   ]
  },
  {
   "cell_type": "code",
   "execution_count": 8,
   "metadata": {},
   "outputs": [
    {
     "name": "stderr",
     "output_type": "stream",
     "text": [
      "/home/stephonh/.local/lib/python3.10/site-packages/cvxpy/problems/problem.py:1403: UserWarning: Solution may be inaccurate. Try another solver, adjusting the solver settings, or solve with verbose=True for more information.\n",
      "  warnings.warn(\n"
     ]
    }
   ],
   "source": [
    "input_amount = 2000\n",
    "deltas, lambdas, psi, n, amount_out, amount_in, total_fees = solve(\n",
    "    all_tokens,\n",
    "    all_cfmms,\n",
    "    reserves,\n",
    "    cfmm_tx_cost,\n",
    "    fees,\n",
    "    ibc_pools,\n",
    "    ORIGIN_TOKEN,\n",
    "    input_amount,\n",
    "    OBJ_TOKEN,\n",
    ")"
   ]
  },
  {
   "cell_type": "code",
   "execution_count": 9,
   "metadata": {},
   "outputs": [],
   "source": [
    "t_values = sorted(n.value)"
   ]
  },
  {
   "cell_type": "code",
   "execution_count": 10,
   "metadata": {},
   "outputs": [
    {
     "name": "stderr",
     "output_type": "stream",
     "text": [
      "  0%|          | 0/40 [00:00<?, ?it/s]"
     ]
    },
    {
     "name": "stderr",
     "output_type": "stream",
     "text": [
      "100%|██████████| 40/40 [00:10<00:00,  3.84it/s]\n"
     ]
    }
   ],
   "source": [
    "# We slide through each of the t values and turn each eta value into 0 or 1 depending on this threshold\n",
    "# For each t value, we collect the results of the solve function and store them in a dictionary\n",
    "# Will go through each of these later to see which ones produce the best results\n",
    "\n",
    "result = {}\n",
    "\n",
    "for t in tqdm(t_values): \n",
    "    eta_values = [1 if n.value[i] >= t else 0 for i in range(len(n.value))]\n",
    "    \n",
    "    # Trying to solve with these eta values\n",
    "    try: \n",
    "        deltas, lambdas, psi, n_temp, amount_out, amount_in, total_fees = solve(\n",
    "            all_tokens,\n",
    "            all_cfmms,\n",
    "            reserves,\n",
    "            cfmm_tx_cost,\n",
    "            fees,\n",
    "            ibc_pools,\n",
    "            ORIGIN_TOKEN,\n",
    "            input_amount,\n",
    "            OBJ_TOKEN,\n",
    "            force_eta=eta_values,\n",
    "        )\n",
    "        \n",
    "        result[t] = {\n",
    "            \"amount_in\": amount_in,\n",
    "            \"amount_out\": amount_out,\n",
    "            \"total_fees\": total_fees,\n",
    "            \"eta\": eta_values,\n",
    "            'net': amount_out - total_fees,\n",
    "            'deltas': deltas,\n",
    "            'lambdas': lambdas,\n",
    "            'psi': psi,\n",
    "            'n': n_temp\n",
    "        }\n",
    "    except: \n",
    "        continue\n"
   ]
  },
  {
   "cell_type": "code",
   "execution_count": 11,
   "metadata": {},
   "outputs": [],
   "source": [
    "# Get the index with the highest net value \n",
    "max_index = max(result, key=lambda x: result[x]['net'])\n",
    "\n",
    "# Get the result with the highest net value\n",
    "final_result = result[max_index]"
   ]
  },
  {
   "cell_type": "code",
   "execution_count": 14,
   "metadata": {},
   "outputs": [
    {
     "name": "stdout",
     "output_type": "stream",
     "text": [
      "Amount in: 1999.9998434808351\n",
      "Amount out: 1844.9689359303661\n",
      "Total fees: 16.124586546744972\n",
      "Net: 1828.8443493836212\n"
     ]
    }
   ],
   "source": [
    "print(f\"Amount in: {final_result['amount_in']}\")\n",
    "print(f\"Amount out: {final_result['amount_out']}\")\n",
    "print(f\"Total fees: {final_result['total_fees']}\")\n",
    "print(f\"Net: {final_result['net']}\")"
   ]
  },
  {
   "cell_type": "markdown",
   "metadata": {},
   "source": [
    "We can see that the best result here gives us a net of 1828.84 tokens out after swapping 2000 tokens originally. We are going to dive into the swaps that are proposed from this. "
   ]
  },
  {
   "cell_type": "code",
   "execution_count": 20,
   "metadata": {},
   "outputs": [],
   "source": [
    "final_deltas = final_result['deltas']\n",
    "final_lambdas = final_result['lambdas']\n",
    "final_psi = final_result['psi'].value\n",
    "final_eta = final_result['n'].value"
   ]
  },
  {
   "cell_type": "code",
   "execution_count": 23,
   "metadata": {},
   "outputs": [],
   "source": [
    "# Getting indices of the etas that are 1\n",
    "final_eta_indices = [i for i, x in enumerate(final_eta) if x == 1]"
   ]
  },
  {
   "cell_type": "code",
   "execution_count": 33,
   "metadata": {},
   "outputs": [],
   "source": [
    "eta_thresh = 0.999999 \n",
    "final_eta_indices = [i for i, x in enumerate(final_eta) if x >= eta_thresh]"
   ]
  },
  {
   "cell_type": "code",
   "execution_count": 34,
   "metadata": {},
   "outputs": [
    {
     "data": {
      "text/plain": [
       "[3, 15, 17, 21, 26, 27, 36, 39]"
      ]
     },
     "execution_count": 34,
     "metadata": {},
     "output_type": "execute_result"
    }
   ],
   "source": [
    "final_eta_indices"
   ]
  },
  {
   "cell_type": "markdown",
   "metadata": {},
   "source": [
    "We have these final eta indices which represent the exchanges that are going to be used. We want to check that the network trade vector after using these all work out. Do these give the final amount of tokens we expect? "
   ]
  },
  {
   "cell_type": "code",
   "execution_count": 36,
   "metadata": {},
   "outputs": [],
   "source": [
    "token_mapping_matrices = get_mapping_matrices(all_tokens, all_cfmms)"
   ]
  },
  {
   "cell_type": "code",
   "execution_count": 41,
   "metadata": {},
   "outputs": [],
   "source": [
    "psis = []\n",
    "\n",
    "for index in final_eta_indices:\n",
    "    mapping_matrix = token_mapping_matrices[index]\n",
    "    delta = final_deltas[index].value\n",
    "    lambda_ = final_lambdas[index].value\n",
    "    psi = mapping_matrix @ (lambda_ - delta)\n",
    "    psis.append(psi)"
   ]
  },
  {
   "cell_type": "code",
   "execution_count": 43,
   "metadata": {},
   "outputs": [],
   "source": [
    "# Summing all the psis\n",
    "final_psi = sum(psis)"
   ]
  },
  {
   "cell_type": "code",
   "execution_count": 51,
   "metadata": {},
   "outputs": [
    {
     "data": {
      "text/plain": [
       "array([-4.69644577e+02,  0.00000000e+00,  0.00000000e+00, -6.37233279e+02,\n",
       "        4.53742687e+02,  0.00000000e+00, -1.12931497e+02, -1.49904013e+02,\n",
       "        8.92634524e+02, -2.47806568e+02,  2.79663980e+02,  1.16921887e+02,\n",
       "       -2.98856378e+02,  1.18441618e-02,  1.24965404e+02])"
      ]
     },
     "execution_count": 51,
     "metadata": {},
     "output_type": "execute_result"
    }
   ],
   "source": [
    "final_psi "
   ]
  },
  {
   "cell_type": "code",
   "execution_count": 45,
   "metadata": {},
   "outputs": [],
   "source": [
    "psis_v2 = [] \n",
    "\n",
    "# Going through all the indices now \n",
    "for index in range(len(final_eta)):\n",
    "    mapping_matrix = token_mapping_matrices[index]\n",
    "    delta = final_deltas[index].value\n",
    "    lambda_ = final_lambdas[index].value\n",
    "    psi = mapping_matrix @ (lambda_ - delta)\n",
    "    psis_v2.append(psi)"
   ]
  },
  {
   "cell_type": "code",
   "execution_count": 46,
   "metadata": {},
   "outputs": [],
   "source": [
    "final_psi_v2 = sum(psis_v2)"
   ]
  },
  {
   "cell_type": "code",
   "execution_count": 50,
   "metadata": {},
   "outputs": [
    {
     "data": {
      "text/plain": [
       "array([-1.99999984e+03,  1.45726170e-04,  1.45008955e-04,  1.40752716e-04,\n",
       "        1.44731361e-04,  1.46784173e-04,  1.42892015e-04,  1.40814218e-04,\n",
       "        1.39231760e-04,  1.43070684e-04,  1.84496894e+03,  1.38854047e-04,\n",
       "        1.42551785e-04,  1.38530066e-04,  1.38766022e-04])"
      ]
     },
     "execution_count": 50,
     "metadata": {},
     "output_type": "execute_result"
    }
   ],
   "source": [
    "final_psi_v2"
   ]
  },
  {
   "cell_type": "markdown",
   "metadata": {},
   "source": [
    "What we are seeing is that if you do the procedure of fixing the eta values to 0 or 1, the solver solution does not make sense. You are not finding a solution where you route all the tokens toward your destination. However, when you use all the cfmms regardless of the eta values they give you, you're getting the right solution. This is an issue and is probably because of numerical tolerance around things. We can't exactly just say that something is zero. \n",
    "\n",
    "We might need to do something where we do this on the fly. Instead of putting the eta values into the optimization, we may have to just not include those cfmms in it and create the solver problem on the fly. We can test that out and see how this goes. We will have to do a try except or something though given that we are not sure that all the swaps are possible and stuff. \n"
   ]
  },
  {
   "cell_type": "code",
   "execution_count": 29,
   "metadata": {},
   "outputs": [],
   "source": [
    "# def get_swap_instructions(mapping_matrices, i: int): \n",
    "#     psi_i = mapping_matrices[i] @ (lambdas[i].value - deltas[i].value)\n",
    "    \n",
    "#     # Get the indices where the values are not 0\n",
    "#     indices = list(np.nonzero(psi_i)[0])\n",
    "    \n",
    "#     first_token = all_tokens[indices[0]]\n",
    "#     second_token = all_tokens[indices[1]]\n",
    "    \n",
    "#     # Get the amount of tokens that are being traded\n",
    "#     first_token_amount = psi_i[indices[0]]\n",
    "#     second_token_amount = psi_i[indices[1]]\n",
    "    \n",
    "#     if first_token_amount < 0:\n",
    "#         return f\"Trade {-first_token_amount} {first_token} for {second_token_amount} {second_token}\"\n",
    "#     else:\n",
    "#         return f\"Trade {-second_token_amount} {second_token} for {first_token_amount} {first_token}\""
   ]
  },
  {
   "cell_type": "code",
   "execution_count": 31,
   "metadata": {},
   "outputs": [],
   "source": [
    "# class Swap: \n",
    "    \n",
    "#     def __init__(self, token_in: str, token_out: str, amount_in: float, amount_out: float):\n",
    "#         self.token_in = token_in\n",
    "#         self.token_out = token_out\n",
    "#         self.amount_in = amount_in\n",
    "#         self.amount_out = amount_out\n",
    "        \n",
    "#     def __str__(self) -> str:\n",
    "#         return f\"Trade {self.amount_in} {self.token_in} for {self.amount_out} {self.token_out}\"\n",
    "    \n",
    "#     def __repr__(self) -> str:\n",
    "#         return f'Swap(\"{self.token_in}\", \"{self.token_out}\", {self.amount_in}, {self.amount_out})'\n",
    "    \n",
    "    "
   ]
  },
  {
   "cell_type": "code",
   "execution_count": 42,
   "metadata": {},
   "outputs": [],
   "source": [
    "# def create_swap(i: int) -> Swap: \n",
    "#     psi_i = A[i] @ (deltas[i].value - lambdas[i].value)\n",
    "    \n",
    "#     # Get the indices where the values are not 0\n",
    "#     indices = list(np.nonzero(psi_i)[0])\n",
    "    \n",
    "#     first_token = all_tokens[indices[0]]\n",
    "#     second_token = all_tokens[indices[1]]\n",
    "    \n",
    "#     # Get the amount of tokens that are being traded\n",
    "#     first_token_amount = psi_i[indices[0]]\n",
    "#     second_token_amount = psi_i[indices[1]]\n",
    "    \n",
    "#     if first_token_amount > 0:\n",
    "#         return Swap(first_token, second_token, first_token_amount, -second_token_amount)\n",
    "#     else:\n",
    "#         return Swap(second_token, first_token, second_token_amount, -first_token_amount)\n",
    "    "
   ]
  },
  {
   "cell_type": "code",
   "execution_count": 81,
   "metadata": {},
   "outputs": [],
   "source": [
    "# swaps = [] \n",
    "# for i in range(len(all_cfmms)):\n",
    "#     swaps.append(create_swap(i))\n",
    "    \n",
    "# inventory = {token: 0 for token in all_tokens}\n",
    "# inventory[ORIGIN_TOKEN] = input_amount\n",
    "# inventories = []\n",
    "\n",
    "# swaps_copy = swaps.copy()\n",
    "# swaps_sorted = []"
   ]
  },
  {
   "cell_type": "code",
   "execution_count": 88,
   "metadata": {},
   "outputs": [],
   "source": [
    "# start_token = 'WETH'\n",
    "\n",
    "# # Get all swaps that start with the start_token\n",
    "# start_swaps = [swap for swap in swaps_copy if swap.token_in == start_token]\n",
    "\n",
    "# for s in start_swaps: \n",
    "#     inventory[s.token_in] -= s.amount_in\n",
    "#     inventory[s.token_out] += s.amount_out\n",
    "    \n",
    "#     # Remove the swap from the list of swaps in swaps_copy\n",
    "#     swaps_sorted.append(s)\n",
    "#     swaps_copy.remove(s)\n",
    "    \n",
    "# inventories.append(inventory.copy())\n",
    "    \n",
    "# while len(swaps_copy) > 0:\n",
    "#     for token, amount in inventory.items():\n",
    "#         token_swaps = [swap for swap in swaps_copy if swap.token_in == token]\n",
    "        \n",
    "#         if len(token_swaps) == 0: \n",
    "#             continue\n",
    "#         else: \n",
    "#             for s in token_swaps:\n",
    "#                 inventory[s.token_in] -= s.amount_in\n",
    "#                 inventory[s.token_out] += s.amount_out\n",
    "                \n",
    "#                 # Remove the swap from the list of swaps in swaps_copy\n",
    "#                 swaps_sorted.append(s)\n",
    "#                 swaps_copy.remove(s)\n",
    "#     inventories.append(inventory.copy())"
   ]
  },
  {
   "cell_type": "code",
   "execution_count": 111,
   "metadata": {},
   "outputs": [],
   "source": [
    "swaps_dict = {token: [] for token in all_tokens}\n",
    "\n",
    "for swap in swaps_sorted:\n",
    "    swaps_dict[swap.token_in].append(swap)"
   ]
  },
  {
   "cell_type": "code",
   "execution_count": 116,
   "metadata": {},
   "outputs": [
    {
     "data": {
      "text/plain": [
       "{'WETH': [Swap(\"WETH\", \"USDC\", 199.57826386917714, 195.550559018189),\n",
       "  Swap(\"WETH\", \"SHIBA\", 251.6344785814913, 247.7142051626943),\n",
       "  Swap(\"WETH\", \"CENTAURI/OSMOSIS/ATOM\", 310.64743764587143, 299.14934626284384),\n",
       "  Swap(\"WETH\", \"CENTAURI/OSMOSIS/SCRT\", 234.08856742037057, 228.9466891786847),\n",
       "  Swap(\"WETH\", \"ETHEREUM/WETH\", 1004.0512472145539, 995.255552042431)],\n",
       " 'USDC': [Swap(\"USDC\", \"SHIBA\", 0.006397628887808525, 0.006368674402247055),\n",
       "  Swap(\"USDC\", \"CENTAURI/OSMOSIS/ATOM\", 195.54302679085006, 193.84669972205623),\n",
       "  Swap(\"USDC\", \"CENTAURI/OSMOSIS/SCRT\", 4.123920584735185e-05, 1.370918617685853e-05),\n",
       "  Swap(\"USDC\", \"ETHEREUM/USDC\", 0.001088300625679467, 0.0010551002392591886)],\n",
       " 'SHIBA': [Swap(\"SHIBA\", \"CENTAURI/OSMOSIS/ATOM\", 131.25124555901945, 129.3198317585649),\n",
       "  Swap(\"SHIBA\", \"CENTAURI/OSMOSIS/SCRT\", 116.41882013976233, 117.21439989196746),\n",
       "  Swap(\"SHIBA\", \"ETHEREUM/SHIBA\", 0.05050308002317698, 0.04984245933993024)],\n",
       " 'CENTAURI/OSMOSIS/ATOM': [Swap(\"CENTAURI/OSMOSIS/ATOM\", \"OSMOSIS/ATOM\", 626.8669394082583, 609.0496970860654)],\n",
       " 'CENTAURI/OSMOSIS/SCRT': [Swap(\"CENTAURI/OSMOSIS/SCRT\", \"CENTAURI/OSMOSIS/ATOM\", 4.655274403442046, 4.551066582593992),\n",
       "  Swap(\"CENTAURI/OSMOSIS/SCRT\", \"OSMOSIS/SCRT\", 341.5058233435802, 340.1209735535778)],\n",
       " 'ETHEREUM/WETH': [Swap(\"ETHEREUM/WETH\", \"ETHEREUM/USDC\", 83.05812954888717, 80.54246832093544),\n",
       "  Swap(\"ETHEREUM/WETH\", \"ETHEREUM/SHIBA\", 0.14519088792304272, 0.1388394525566607),\n",
       "  Swap(\"ETHEREUM/WETH\", \"OSMOSIS/ATOM\", 117.82807563128102, 109.04005691843027),\n",
       "  Swap(\"ETHEREUM/WETH\", \"OSMOSIS/SCRT\", 79.79808330986393, 77.21149199205873),\n",
       "  Swap(\"ETHEREUM/WETH\", \"CENTAURI/ETHEREUM/WETH\", 714.4260674421536, 693.7651060193293)],\n",
       " 'ETHEREUM/USDC': [Swap(\"ETHEREUM/USDC\", \"ETHEREUM/SHIBA\", 38.38944265651674, 38.337268659263664),\n",
       "  Swap(\"ETHEREUM/USDC\", \"OSMOSIS/ATOM\", 42.15695860419206, 40.28208088150217),\n",
       "  Swap(\"ETHEREUM/USDC\", \"CENTAURI/ETHEREUM/USDC\", 0.0009252221765968354, 0.0008811851375944971)],\n",
       " 'ETHEREUM/SHIBA': [Swap(\"ETHEREUM/SHIBA\", \"OSMOSIS/ATOM\", 17.394381754186636, 16.6698826550209),\n",
       "  Swap(\"ETHEREUM/SHIBA\", \"OSMOSIS/SCRT\", 21.131063441097993, 21.252222256220172),\n",
       "  Swap(\"ETHEREUM/SHIBA\", \"CENTAURI/ETHEREUM/SHIBA\", 0.0005003812940537911, 0.0004699545549218795)],\n",
       " 'OSMOSIS/ATOM': [Swap(\"OSMOSIS/ATOM\", \"ATOM\", 940.5391805510258, 931.2752145388631)],\n",
       " 'OSMOSIS/SCRT': [Swap(\"OSMOSIS/SCRT\", \"ETHEREUM/USDC\", 0.0038281571290201444, 0.0038080827785175676),\n",
       "  Swap(\"OSMOSIS/SCRT\", \"OSMOSIS/ATOM\", 170.71062180810236, 165.49746778783546),\n",
       "  Swap(\"OSMOSIS/SCRT\", \"SCRT\", 267.87023282424485, 267.54800029855886)],\n",
       " 'ATOM': [],\n",
       " 'SCRT': [Swap(\"SCRT\", \"ATOM\", 338.2180836577726, 330.70867455944403),\n",
       "  Swap(\"SCRT\", \"CENTAURI/ETHEREUM/SHIBA\", 0.019919700892196846, 0.019619083850122256)],\n",
       " 'CENTAURI/ETHEREUM/WETH': [Swap(\"CENTAURI/ETHEREUM/WETH\", \"ATOM\", 502.9947152950323, 493.55044130524027),\n",
       "  Swap(\"CENTAURI/ETHEREUM/WETH\", \"SCRT\", 38.84624031162785, 38.49889910346511),\n",
       "  Swap(\"CENTAURI/ETHEREUM/WETH\", \"CENTAURI/ETHEREUM/USDC\", 151.92341430198147, 149.5213010749773),\n",
       "  Swap(\"CENTAURI/ETHEREUM/WETH\", \"CENTAURI/ETHEREUM/SHIBA\", 0.0007310395916456939, 0.0006848133488436899)],\n",
       " 'CENTAURI/ETHEREUM/USDC': [Swap(\"CENTAURI/ETHEREUM/USDC\", \"ATOM\", 118.01935263076902, 114.97511352814962),\n",
       "  Swap(\"CENTAURI/ETHEREUM/USDC\", \"SCRT\", 31.504633129615815, 32.19110896298453)],\n",
       " 'CENTAURI/ETHEREUM/SHIBA': [Swap(\"CENTAURI/ETHEREUM/SHIBA\", \"ATOM\", 0.018925008725954835, 0.01810757642775549),\n",
       "  Swap(\"CENTAURI/ETHEREUM/SHIBA\", \"CENTAURI/ETHEREUM/USDC\", 0.0018439055402892297, 0.0018084157349163835)]}"
      ]
     },
     "execution_count": 116,
     "metadata": {},
     "output_type": "execute_result"
    }
   ],
   "source": [
    "swaps_dict"
   ]
  },
  {
   "cell_type": "code",
   "execution_count": null,
   "metadata": {},
   "outputs": [],
   "source": []
  }
 ],
 "metadata": {
  "kernelspec": {
   "display_name": "Python 3",
   "language": "python",
   "name": "python3"
  },
  "language_info": {
   "codemirror_mode": {
    "name": "ipython",
    "version": 3
   },
   "file_extension": ".py",
   "mimetype": "text/x-python",
   "name": "python",
   "nbconvert_exporter": "python",
   "pygments_lexer": "ipython3",
   "version": "3.10.12"
  }
 },
 "nbformat": 4,
 "nbformat_minor": 2
}
